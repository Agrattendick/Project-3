{
 "cells": [
  {
   "cell_type": "code",
   "execution_count": 11,
   "metadata": {},
   "outputs": [],
   "source": [
    "# Dependencies\n",
    "import pandas as pd\n",
    "import numpy as np\n",
    "from matplotlib import pyplot as plt"
   ]
  },
  {
   "cell_type": "code",
   "execution_count": 12,
   "metadata": {},
   "outputs": [],
   "source": [
    "#CSV Filepath\n",
    "data = \"Resources/movie_metadata.csv\""
   ]
  },
  {
   "cell_type": "code",
   "execution_count": 13,
   "metadata": {},
   "outputs": [],
   "source": [
    "#import the raw CSV data\n",
    "movie_raw_df = pd.read_csv(data)\n",
    "#check\n",
    "#movie_raw_df.head()"
   ]
  },
  {
   "cell_type": "code",
   "execution_count": 14,
   "metadata": {},
   "outputs": [
    {
     "data": {
      "text/plain": [
       "color                         object\n",
       "director_name                 object\n",
       "num_critic_for_reviews       float64\n",
       "duration                     float64\n",
       "director_facebook_likes      float64\n",
       "actor_3_facebook_likes       float64\n",
       "actor_2_name                  object\n",
       "actor_1_facebook_likes       float64\n",
       "gross                        float64\n",
       "genres                        object\n",
       "actor_1_name                  object\n",
       "movie_title                   object\n",
       "num_voted_users                int64\n",
       "cast_total_facebook_likes      int64\n",
       "actor_3_name                  object\n",
       "facenumber_in_poster         float64\n",
       "plot_keywords                 object\n",
       "movie_imdb_link               object\n",
       "num_user_for_reviews         float64\n",
       "language                      object\n",
       "country                       object\n",
       "content_rating                object\n",
       "budget                       float64\n",
       "title_year                   float64\n",
       "actor_2_facebook_likes       float64\n",
       "imdb_score                   float64\n",
       "aspect_ratio                 float64\n",
       "movie_facebook_likes           int64\n",
       "dtype: object"
      ]
     },
     "execution_count": 14,
     "metadata": {},
     "output_type": "execute_result"
    }
   ],
   "source": [
    "movie_raw_df.dtypes"
   ]
  },
  {
   "cell_type": "code",
   "execution_count": 15,
   "metadata": {},
   "outputs": [],
   "source": [
    "#Clean data of NAN entries\n",
    "movie_df = movie_raw_df.dropna()\n",
    "movie_df_reset_index = movie_df.reset_index()\n",
    "#movie_df_reset_index.count()\n"
   ]
  },
  {
   "cell_type": "code",
   "execution_count": 16,
   "metadata": {},
   "outputs": [
    {
     "data": {
      "text/plain": [
       "Genre_1    3756\n",
       "Genre_2    3411\n",
       "Genre_3    2434\n",
       "Genre_4    1156\n",
       "Genre_5     376\n",
       "Genre_6      80\n",
       "Genre_7      20\n",
       "Genre_8       3\n",
       "dtype: int64"
      ]
     },
     "execution_count": 16,
     "metadata": {},
     "output_type": "execute_result"
    }
   ],
   "source": [
    "#Split off the Genres into multiple columns\n",
    "#Couldn't find a way of doing this without making a new dataframe\n",
    "movie_df_genres = pd.DataFrame(movie_df_reset_index.genres.str.split('|', 8).tolist(), columns = ['Genre_1', 'Genre_2', 'Genre_3', 'Genre_4', 'Genre_5', 'Genre_6', 'Genre_7', 'Genre_8'])\n",
    "#movie_df_genres.head()\n",
    "movie_df_genres.count()"
   ]
  },
  {
   "cell_type": "code",
   "execution_count": 17,
   "metadata": {},
   "outputs": [],
   "source": [
    "#Rejoin genres to main movie dataframe\n",
    "movie_df_join = movie_df_reset_index.join(movie_df_genres)"
   ]
  },
  {
   "cell_type": "code",
   "execution_count": 19,
   "metadata": {},
   "outputs": [],
   "source": [
    "#check rejoin worked\n",
    "#movie_df_join.tail()\n",
    "#movie_df_join.count()"
   ]
  },
  {
   "cell_type": "code",
   "execution_count": 20,
   "metadata": {
    "scrolled": false
   },
   "outputs": [],
   "source": [
    "#Rename columns and reorganize table\n",
    "movie_df_clean = movie_df_join.reindex(columns =['movie_title', 'content_rating', 'title_year', 'duration', 'country',\n",
    "                                                 'language', 'color', 'aspect_ratio', 'imdb_score', 'facenumber_in_poster',\n",
    "                                                 'budget', 'gross', 'movie_facebook_likes', 'director_name', 'director_facebook_likes',\n",
    "                                                 'actor_1_name', 'actor_1_facebook_likes', 'actor_2_name', 'actor_2_facebook_likes',\n",
    "                                                 'actor_3_name', 'actor_3_facebook_likes', 'cast_total_facebook_likes', 'Genre_1',\n",
    "                                                 'Genre_2', 'Genre_3', 'Genre_4', 'Genre_5', 'Genre_6', 'Genre_7', 'Genre_8'] )"
   ]
  },
  {
   "cell_type": "code",
   "execution_count": 10,
   "metadata": {
    "scrolled": true
   },
   "outputs": [],
   "source": [
    "#df = movie_df_join.groupby('director_name')['color'].count()\n",
    "#print(df)"
   ]
  },
  {
   "cell_type": "code",
   "execution_count": 21,
   "metadata": {},
   "outputs": [
    {
     "data": {
      "text/html": [
       "<div>\n",
       "<style scoped>\n",
       "    .dataframe tbody tr th:only-of-type {\n",
       "        vertical-align: middle;\n",
       "    }\n",
       "\n",
       "    .dataframe tbody tr th {\n",
       "        vertical-align: top;\n",
       "    }\n",
       "\n",
       "    .dataframe thead th {\n",
       "        text-align: right;\n",
       "    }\n",
       "</style>\n",
       "<table border=\"1\" class=\"dataframe\">\n",
       "  <thead>\n",
       "    <tr style=\"text-align: right;\">\n",
       "      <th></th>\n",
       "      <th>movie_title</th>\n",
       "      <th>content_rating</th>\n",
       "      <th>title_year</th>\n",
       "      <th>duration</th>\n",
       "      <th>country</th>\n",
       "      <th>language</th>\n",
       "      <th>color</th>\n",
       "      <th>aspect_ratio</th>\n",
       "      <th>imdb_score</th>\n",
       "      <th>facenumber_in_poster</th>\n",
       "      <th>...</th>\n",
       "      <th>actor_3_facebook_likes</th>\n",
       "      <th>cast_total_facebook_likes</th>\n",
       "      <th>Genre_1</th>\n",
       "      <th>Genre_2</th>\n",
       "      <th>Genre_3</th>\n",
       "      <th>Genre_4</th>\n",
       "      <th>Genre_5</th>\n",
       "      <th>Genre_6</th>\n",
       "      <th>Genre_7</th>\n",
       "      <th>Genre_8</th>\n",
       "    </tr>\n",
       "  </thead>\n",
       "  <tbody>\n",
       "    <tr>\n",
       "      <th>0</th>\n",
       "      <td>Avatar</td>\n",
       "      <td>PG-13</td>\n",
       "      <td>2009.0</td>\n",
       "      <td>178.0</td>\n",
       "      <td>USA</td>\n",
       "      <td>English</td>\n",
       "      <td>Color</td>\n",
       "      <td>1.78</td>\n",
       "      <td>7.9</td>\n",
       "      <td>0.0</td>\n",
       "      <td>...</td>\n",
       "      <td>855.0</td>\n",
       "      <td>4834</td>\n",
       "      <td>Action</td>\n",
       "      <td>Adventure</td>\n",
       "      <td>Fantasy</td>\n",
       "      <td>Sci-Fi</td>\n",
       "      <td>None</td>\n",
       "      <td>None</td>\n",
       "      <td>None</td>\n",
       "      <td>None</td>\n",
       "    </tr>\n",
       "    <tr>\n",
       "      <th>1</th>\n",
       "      <td>Pirates of the Caribbean: At World's End</td>\n",
       "      <td>PG-13</td>\n",
       "      <td>2007.0</td>\n",
       "      <td>169.0</td>\n",
       "      <td>USA</td>\n",
       "      <td>English</td>\n",
       "      <td>Color</td>\n",
       "      <td>2.35</td>\n",
       "      <td>7.1</td>\n",
       "      <td>0.0</td>\n",
       "      <td>...</td>\n",
       "      <td>1000.0</td>\n",
       "      <td>48350</td>\n",
       "      <td>Action</td>\n",
       "      <td>Adventure</td>\n",
       "      <td>Fantasy</td>\n",
       "      <td>None</td>\n",
       "      <td>None</td>\n",
       "      <td>None</td>\n",
       "      <td>None</td>\n",
       "      <td>None</td>\n",
       "    </tr>\n",
       "    <tr>\n",
       "      <th>2</th>\n",
       "      <td>Spectre</td>\n",
       "      <td>PG-13</td>\n",
       "      <td>2015.0</td>\n",
       "      <td>148.0</td>\n",
       "      <td>UK</td>\n",
       "      <td>English</td>\n",
       "      <td>Color</td>\n",
       "      <td>2.35</td>\n",
       "      <td>6.8</td>\n",
       "      <td>1.0</td>\n",
       "      <td>...</td>\n",
       "      <td>161.0</td>\n",
       "      <td>11700</td>\n",
       "      <td>Action</td>\n",
       "      <td>Adventure</td>\n",
       "      <td>Thriller</td>\n",
       "      <td>None</td>\n",
       "      <td>None</td>\n",
       "      <td>None</td>\n",
       "      <td>None</td>\n",
       "      <td>None</td>\n",
       "    </tr>\n",
       "    <tr>\n",
       "      <th>3</th>\n",
       "      <td>The Dark Knight Rises</td>\n",
       "      <td>PG-13</td>\n",
       "      <td>2012.0</td>\n",
       "      <td>164.0</td>\n",
       "      <td>USA</td>\n",
       "      <td>English</td>\n",
       "      <td>Color</td>\n",
       "      <td>2.35</td>\n",
       "      <td>8.5</td>\n",
       "      <td>0.0</td>\n",
       "      <td>...</td>\n",
       "      <td>23000.0</td>\n",
       "      <td>106759</td>\n",
       "      <td>Action</td>\n",
       "      <td>Thriller</td>\n",
       "      <td>None</td>\n",
       "      <td>None</td>\n",
       "      <td>None</td>\n",
       "      <td>None</td>\n",
       "      <td>None</td>\n",
       "      <td>None</td>\n",
       "    </tr>\n",
       "    <tr>\n",
       "      <th>4</th>\n",
       "      <td>John Carter</td>\n",
       "      <td>PG-13</td>\n",
       "      <td>2012.0</td>\n",
       "      <td>132.0</td>\n",
       "      <td>USA</td>\n",
       "      <td>English</td>\n",
       "      <td>Color</td>\n",
       "      <td>2.35</td>\n",
       "      <td>6.6</td>\n",
       "      <td>1.0</td>\n",
       "      <td>...</td>\n",
       "      <td>530.0</td>\n",
       "      <td>1873</td>\n",
       "      <td>Action</td>\n",
       "      <td>Adventure</td>\n",
       "      <td>Sci-Fi</td>\n",
       "      <td>None</td>\n",
       "      <td>None</td>\n",
       "      <td>None</td>\n",
       "      <td>None</td>\n",
       "      <td>None</td>\n",
       "    </tr>\n",
       "  </tbody>\n",
       "</table>\n",
       "<p>5 rows × 30 columns</p>\n",
       "</div>"
      ],
      "text/plain": [
       "                                 movie_title content_rating  title_year  \\\n",
       "0                                    Avatar           PG-13      2009.0   \n",
       "1  Pirates of the Caribbean: At World's End           PG-13      2007.0   \n",
       "2                                   Spectre           PG-13      2015.0   \n",
       "3                     The Dark Knight Rises           PG-13      2012.0   \n",
       "4                               John Carter           PG-13      2012.0   \n",
       "\n",
       "   duration country language  color  aspect_ratio  imdb_score  \\\n",
       "0     178.0     USA  English  Color          1.78         7.9   \n",
       "1     169.0     USA  English  Color          2.35         7.1   \n",
       "2     148.0      UK  English  Color          2.35         6.8   \n",
       "3     164.0     USA  English  Color          2.35         8.5   \n",
       "4     132.0     USA  English  Color          2.35         6.6   \n",
       "\n",
       "   facenumber_in_poster   ...    actor_3_facebook_likes  \\\n",
       "0                   0.0   ...                     855.0   \n",
       "1                   0.0   ...                    1000.0   \n",
       "2                   1.0   ...                     161.0   \n",
       "3                   0.0   ...                   23000.0   \n",
       "4                   1.0   ...                     530.0   \n",
       "\n",
       "   cast_total_facebook_likes  Genre_1    Genre_2   Genre_3 Genre_4  Genre_5  \\\n",
       "0                       4834   Action  Adventure   Fantasy  Sci-Fi     None   \n",
       "1                      48350   Action  Adventure   Fantasy    None     None   \n",
       "2                      11700   Action  Adventure  Thriller    None     None   \n",
       "3                     106759   Action   Thriller      None    None     None   \n",
       "4                       1873   Action  Adventure    Sci-Fi    None     None   \n",
       "\n",
       "  Genre_6  Genre_7 Genre_8  \n",
       "0    None     None    None  \n",
       "1    None     None    None  \n",
       "2    None     None    None  \n",
       "3    None     None    None  \n",
       "4    None     None    None  \n",
       "\n",
       "[5 rows x 30 columns]"
      ]
     },
     "execution_count": 21,
     "metadata": {},
     "output_type": "execute_result"
    }
   ],
   "source": [
    "movie_df_clean.head()"
   ]
  },
  {
   "cell_type": "code",
   "execution_count": 22,
   "metadata": {},
   "outputs": [],
   "source": [
    "#Save to new CSV file\n",
    "#movie_df_clean.to_csv('Resources/clean_movie_metadata.csv')"
   ]
  },
  {
   "cell_type": "code",
   "execution_count": null,
   "metadata": {},
   "outputs": [],
   "source": []
  },
  {
   "cell_type": "code",
   "execution_count": null,
   "metadata": {},
   "outputs": [],
   "source": []
  }
 ],
 "metadata": {
  "kernelspec": {
   "display_name": "Python 3",
   "language": "python",
   "name": "python3"
  },
  "language_info": {
   "codemirror_mode": {
    "name": "ipython",
    "version": 3
   },
   "file_extension": ".py",
   "mimetype": "text/x-python",
   "name": "python",
   "nbconvert_exporter": "python",
   "pygments_lexer": "ipython3",
   "version": "3.6.5"
  }
 },
 "nbformat": 4,
 "nbformat_minor": 2
}
